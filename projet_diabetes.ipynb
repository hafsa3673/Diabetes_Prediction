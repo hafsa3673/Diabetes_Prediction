{
 "cells": [
  {
   "cell_type": "code",
   "execution_count": 52,
   "metadata": {},
   "outputs": [],
   "source": [
    "import numpy as np\n",
    "import pandas as pd\n",
    "import matplotlib.pyplot as plt\n",
    "import seaborn as sns"
   ]
  },
  {
   "cell_type": "code",
   "execution_count": 53,
   "metadata": {},
   "outputs": [],
   "source": [
    "#Importer les données:"
   ]
  },
  {
   "cell_type": "code",
   "execution_count": 54,
   "metadata": {},
   "outputs": [
    {
     "data": {
      "text/html": [
       "<div>\n",
       "<style scoped>\n",
       "    .dataframe tbody tr th:only-of-type {\n",
       "        vertical-align: middle;\n",
       "    }\n",
       "\n",
       "    .dataframe tbody tr th {\n",
       "        vertical-align: top;\n",
       "    }\n",
       "\n",
       "    .dataframe thead th {\n",
       "        text-align: right;\n",
       "    }\n",
       "</style>\n",
       "<table border=\"1\" class=\"dataframe\">\n",
       "  <thead>\n",
       "    <tr style=\"text-align: right;\">\n",
       "      <th></th>\n",
       "      <th>Pregnancies</th>\n",
       "      <th>Glucose</th>\n",
       "      <th>BloodPressure</th>\n",
       "      <th>SkinThickness</th>\n",
       "      <th>Insulin</th>\n",
       "      <th>BMI</th>\n",
       "      <th>DiabetesPedigreeFunction</th>\n",
       "      <th>Age</th>\n",
       "      <th>Outcome</th>\n",
       "    </tr>\n",
       "  </thead>\n",
       "  <tbody>\n",
       "    <tr>\n",
       "      <th>0</th>\n",
       "      <td>6</td>\n",
       "      <td>148</td>\n",
       "      <td>72</td>\n",
       "      <td>35</td>\n",
       "      <td>0</td>\n",
       "      <td>33.6</td>\n",
       "      <td>0.627</td>\n",
       "      <td>50</td>\n",
       "      <td>1</td>\n",
       "    </tr>\n",
       "    <tr>\n",
       "      <th>1</th>\n",
       "      <td>1</td>\n",
       "      <td>85</td>\n",
       "      <td>66</td>\n",
       "      <td>29</td>\n",
       "      <td>0</td>\n",
       "      <td>26.6</td>\n",
       "      <td>0.351</td>\n",
       "      <td>31</td>\n",
       "      <td>0</td>\n",
       "    </tr>\n",
       "    <tr>\n",
       "      <th>2</th>\n",
       "      <td>8</td>\n",
       "      <td>183</td>\n",
       "      <td>64</td>\n",
       "      <td>0</td>\n",
       "      <td>0</td>\n",
       "      <td>23.3</td>\n",
       "      <td>0.672</td>\n",
       "      <td>32</td>\n",
       "      <td>1</td>\n",
       "    </tr>\n",
       "    <tr>\n",
       "      <th>3</th>\n",
       "      <td>1</td>\n",
       "      <td>89</td>\n",
       "      <td>66</td>\n",
       "      <td>23</td>\n",
       "      <td>94</td>\n",
       "      <td>28.1</td>\n",
       "      <td>0.167</td>\n",
       "      <td>21</td>\n",
       "      <td>0</td>\n",
       "    </tr>\n",
       "    <tr>\n",
       "      <th>4</th>\n",
       "      <td>0</td>\n",
       "      <td>137</td>\n",
       "      <td>40</td>\n",
       "      <td>35</td>\n",
       "      <td>168</td>\n",
       "      <td>43.1</td>\n",
       "      <td>2.288</td>\n",
       "      <td>33</td>\n",
       "      <td>1</td>\n",
       "    </tr>\n",
       "    <tr>\n",
       "      <th>...</th>\n",
       "      <td>...</td>\n",
       "      <td>...</td>\n",
       "      <td>...</td>\n",
       "      <td>...</td>\n",
       "      <td>...</td>\n",
       "      <td>...</td>\n",
       "      <td>...</td>\n",
       "      <td>...</td>\n",
       "      <td>...</td>\n",
       "    </tr>\n",
       "    <tr>\n",
       "      <th>763</th>\n",
       "      <td>10</td>\n",
       "      <td>101</td>\n",
       "      <td>76</td>\n",
       "      <td>48</td>\n",
       "      <td>180</td>\n",
       "      <td>32.9</td>\n",
       "      <td>0.171</td>\n",
       "      <td>63</td>\n",
       "      <td>0</td>\n",
       "    </tr>\n",
       "    <tr>\n",
       "      <th>764</th>\n",
       "      <td>2</td>\n",
       "      <td>122</td>\n",
       "      <td>70</td>\n",
       "      <td>27</td>\n",
       "      <td>0</td>\n",
       "      <td>36.8</td>\n",
       "      <td>0.340</td>\n",
       "      <td>27</td>\n",
       "      <td>0</td>\n",
       "    </tr>\n",
       "    <tr>\n",
       "      <th>765</th>\n",
       "      <td>5</td>\n",
       "      <td>121</td>\n",
       "      <td>72</td>\n",
       "      <td>23</td>\n",
       "      <td>112</td>\n",
       "      <td>26.2</td>\n",
       "      <td>0.245</td>\n",
       "      <td>30</td>\n",
       "      <td>0</td>\n",
       "    </tr>\n",
       "    <tr>\n",
       "      <th>766</th>\n",
       "      <td>1</td>\n",
       "      <td>126</td>\n",
       "      <td>60</td>\n",
       "      <td>0</td>\n",
       "      <td>0</td>\n",
       "      <td>30.1</td>\n",
       "      <td>0.349</td>\n",
       "      <td>47</td>\n",
       "      <td>1</td>\n",
       "    </tr>\n",
       "    <tr>\n",
       "      <th>767</th>\n",
       "      <td>1</td>\n",
       "      <td>93</td>\n",
       "      <td>70</td>\n",
       "      <td>31</td>\n",
       "      <td>0</td>\n",
       "      <td>30.4</td>\n",
       "      <td>0.315</td>\n",
       "      <td>23</td>\n",
       "      <td>0</td>\n",
       "    </tr>\n",
       "  </tbody>\n",
       "</table>\n",
       "<p>768 rows × 9 columns</p>\n",
       "</div>"
      ],
      "text/plain": [
       "     Pregnancies  Glucose  BloodPressure  SkinThickness  Insulin   BMI  \\\n",
       "0              6      148             72             35        0  33.6   \n",
       "1              1       85             66             29        0  26.6   \n",
       "2              8      183             64              0        0  23.3   \n",
       "3              1       89             66             23       94  28.1   \n",
       "4              0      137             40             35      168  43.1   \n",
       "..           ...      ...            ...            ...      ...   ...   \n",
       "763           10      101             76             48      180  32.9   \n",
       "764            2      122             70             27        0  36.8   \n",
       "765            5      121             72             23      112  26.2   \n",
       "766            1      126             60              0        0  30.1   \n",
       "767            1       93             70             31        0  30.4   \n",
       "\n",
       "     DiabetesPedigreeFunction  Age  Outcome  \n",
       "0                       0.627   50        1  \n",
       "1                       0.351   31        0  \n",
       "2                       0.672   32        1  \n",
       "3                       0.167   21        0  \n",
       "4                       2.288   33        1  \n",
       "..                        ...  ...      ...  \n",
       "763                     0.171   63        0  \n",
       "764                     0.340   27        0  \n",
       "765                     0.245   30        0  \n",
       "766                     0.349   47        1  \n",
       "767                     0.315   23        0  \n",
       "\n",
       "[768 rows x 9 columns]"
      ]
     },
     "execution_count": 54,
     "metadata": {},
     "output_type": "execute_result"
    }
   ],
   "source": [
    "df = pd.read_csv('diabetes.csv')\n",
    "df"
   ]
  },
  {
   "cell_type": "code",
   "execution_count": 8,
   "metadata": {},
   "outputs": [
    {
     "data": {
      "text/html": [
       "<div>\n",
       "<style scoped>\n",
       "    .dataframe tbody tr th:only-of-type {\n",
       "        vertical-align: middle;\n",
       "    }\n",
       "\n",
       "    .dataframe tbody tr th {\n",
       "        vertical-align: top;\n",
       "    }\n",
       "\n",
       "    .dataframe thead th {\n",
       "        text-align: right;\n",
       "    }\n",
       "</style>\n",
       "<table border=\"1\" class=\"dataframe\">\n",
       "  <thead>\n",
       "    <tr style=\"text-align: right;\">\n",
       "      <th></th>\n",
       "      <th>Pregnancies</th>\n",
       "      <th>Glucose</th>\n",
       "      <th>BloodPressure</th>\n",
       "      <th>SkinThickness</th>\n",
       "      <th>Insulin</th>\n",
       "      <th>BMI</th>\n",
       "      <th>DiabetesPedigreeFunction</th>\n",
       "      <th>Age</th>\n",
       "      <th>Outcome</th>\n",
       "    </tr>\n",
       "  </thead>\n",
       "  <tbody>\n",
       "    <tr>\n",
       "      <th>0</th>\n",
       "      <td>6</td>\n",
       "      <td>148</td>\n",
       "      <td>72</td>\n",
       "      <td>35</td>\n",
       "      <td>0</td>\n",
       "      <td>33.6</td>\n",
       "      <td>0.627</td>\n",
       "      <td>50</td>\n",
       "      <td>1</td>\n",
       "    </tr>\n",
       "    <tr>\n",
       "      <th>1</th>\n",
       "      <td>1</td>\n",
       "      <td>85</td>\n",
       "      <td>66</td>\n",
       "      <td>29</td>\n",
       "      <td>0</td>\n",
       "      <td>26.6</td>\n",
       "      <td>0.351</td>\n",
       "      <td>31</td>\n",
       "      <td>0</td>\n",
       "    </tr>\n",
       "    <tr>\n",
       "      <th>2</th>\n",
       "      <td>8</td>\n",
       "      <td>183</td>\n",
       "      <td>64</td>\n",
       "      <td>0</td>\n",
       "      <td>0</td>\n",
       "      <td>23.3</td>\n",
       "      <td>0.672</td>\n",
       "      <td>32</td>\n",
       "      <td>1</td>\n",
       "    </tr>\n",
       "    <tr>\n",
       "      <th>3</th>\n",
       "      <td>1</td>\n",
       "      <td>89</td>\n",
       "      <td>66</td>\n",
       "      <td>23</td>\n",
       "      <td>94</td>\n",
       "      <td>28.1</td>\n",
       "      <td>0.167</td>\n",
       "      <td>21</td>\n",
       "      <td>0</td>\n",
       "    </tr>\n",
       "    <tr>\n",
       "      <th>4</th>\n",
       "      <td>0</td>\n",
       "      <td>137</td>\n",
       "      <td>40</td>\n",
       "      <td>35</td>\n",
       "      <td>168</td>\n",
       "      <td>43.1</td>\n",
       "      <td>2.288</td>\n",
       "      <td>33</td>\n",
       "      <td>1</td>\n",
       "    </tr>\n",
       "    <tr>\n",
       "      <th>5</th>\n",
       "      <td>5</td>\n",
       "      <td>116</td>\n",
       "      <td>74</td>\n",
       "      <td>0</td>\n",
       "      <td>0</td>\n",
       "      <td>25.6</td>\n",
       "      <td>0.201</td>\n",
       "      <td>30</td>\n",
       "      <td>0</td>\n",
       "    </tr>\n",
       "    <tr>\n",
       "      <th>6</th>\n",
       "      <td>3</td>\n",
       "      <td>78</td>\n",
       "      <td>50</td>\n",
       "      <td>32</td>\n",
       "      <td>88</td>\n",
       "      <td>31.0</td>\n",
       "      <td>0.248</td>\n",
       "      <td>26</td>\n",
       "      <td>1</td>\n",
       "    </tr>\n",
       "    <tr>\n",
       "      <th>7</th>\n",
       "      <td>10</td>\n",
       "      <td>115</td>\n",
       "      <td>0</td>\n",
       "      <td>0</td>\n",
       "      <td>0</td>\n",
       "      <td>35.3</td>\n",
       "      <td>0.134</td>\n",
       "      <td>29</td>\n",
       "      <td>0</td>\n",
       "    </tr>\n",
       "    <tr>\n",
       "      <th>8</th>\n",
       "      <td>2</td>\n",
       "      <td>197</td>\n",
       "      <td>70</td>\n",
       "      <td>45</td>\n",
       "      <td>543</td>\n",
       "      <td>30.5</td>\n",
       "      <td>0.158</td>\n",
       "      <td>53</td>\n",
       "      <td>1</td>\n",
       "    </tr>\n",
       "    <tr>\n",
       "      <th>9</th>\n",
       "      <td>8</td>\n",
       "      <td>125</td>\n",
       "      <td>96</td>\n",
       "      <td>0</td>\n",
       "      <td>0</td>\n",
       "      <td>0.0</td>\n",
       "      <td>0.232</td>\n",
       "      <td>54</td>\n",
       "      <td>1</td>\n",
       "    </tr>\n",
       "  </tbody>\n",
       "</table>\n",
       "</div>"
      ],
      "text/plain": [
       "   Pregnancies  Glucose  BloodPressure  SkinThickness  Insulin   BMI  \\\n",
       "0            6      148             72             35        0  33.6   \n",
       "1            1       85             66             29        0  26.6   \n",
       "2            8      183             64              0        0  23.3   \n",
       "3            1       89             66             23       94  28.1   \n",
       "4            0      137             40             35      168  43.1   \n",
       "5            5      116             74              0        0  25.6   \n",
       "6            3       78             50             32       88  31.0   \n",
       "7           10      115              0              0        0  35.3   \n",
       "8            2      197             70             45      543  30.5   \n",
       "9            8      125             96              0        0   0.0   \n",
       "\n",
       "   DiabetesPedigreeFunction  Age  Outcome  \n",
       "0                     0.627   50        1  \n",
       "1                     0.351   31        0  \n",
       "2                     0.672   32        1  \n",
       "3                     0.167   21        0  \n",
       "4                     2.288   33        1  \n",
       "5                     0.201   30        0  \n",
       "6                     0.248   26        1  \n",
       "7                     0.134   29        0  \n",
       "8                     0.158   53        1  \n",
       "9                     0.232   54        1  "
      ]
     },
     "execution_count": 8,
     "metadata": {},
     "output_type": "execute_result"
    }
   ],
   "source": [
    "df.head(10)"
   ]
  },
  {
   "cell_type": "code",
   "execution_count": 9,
   "metadata": {},
   "outputs": [],
   "source": [
    "#Le nettoyage des données:"
   ]
  },
  {
   "cell_type": "code",
   "execution_count": 10,
   "metadata": {},
   "outputs": [
    {
     "name": "stdout",
     "output_type": "stream",
     "text": [
      "False\n"
     ]
    }
   ],
   "source": [
    "#Est-ce qu'il existe des valeurs manquantes:\n",
    "print(df.isnull().values.any())"
   ]
  },
  {
   "cell_type": "code",
   "execution_count": 11,
   "metadata": {},
   "outputs": [
    {
     "name": "stdout",
     "output_type": "stream",
     "text": [
      "0\n"
     ]
    }
   ],
   "source": [
    "#Le nombre de ces valeurs manquantes:\n",
    "print(df.isnull().sum().sum())"
   ]
  },
  {
   "cell_type": "code",
   "execution_count": 12,
   "metadata": {},
   "outputs": [
    {
     "data": {
      "image/png": "[encoded data removed]",
      "text/plain": [
       "<Figure size 1080x1080 with 9 Axes>"
      ]
     },
     "metadata": {
      "needs_background": "light"
     },
     "output_type": "display_data"
    }
   ],
   "source": [
    "p = df.hist(figsize = (15,15))"
   ]
  },
  {
   "cell_type": "code",
   "execution_count": 13,
   "metadata": {},
   "outputs": [
    {
     "data": {
      "image/png": "[encoded data removed]",
      "text/plain": [
       "<Figure size 432x288 with 1 Axes>"
      ]
     },
     "metadata": {
      "needs_background": "light"
     },
     "output_type": "display_data"
    }
   ],
   "source": [
    "#séparer les valeurs de Outcome\n",
    "plt.figure()\n",
    "plt.hist(df[df.Outcome==1]['Age'],bins=15,label='Diabetes',color='g',alpha=0.2)\n",
    "plt.hist(df[df.Outcome==0]['Age'],bins=15,label='pas de diabetes',color='b',alpha=0.2)\n",
    "plt.xlabel('Age')\n",
    "plt.ylabel('frequency')\n",
    "plt.legend()\n",
    "plt.show()"
   ]
  },
  {
   "cell_type": "code",
   "execution_count": 21,
   "metadata": {},
   "outputs": [
    {
     "data": {
      "text/plain": [
       "Text(0, 0.5, 'BloodPressure')"
      ]
     },
     "execution_count": 21,
     "metadata": {},
     "output_type": "execute_result"
    },
    {
     "data": {
      "image/png": "[encoded data removed]",
      "text/plain": [
       "<Figure size 432x288 with 1 Axes>"
      ]
     },
     "metadata": {
      "needs_background": "light"
     },
     "output_type": "display_data"
    }
   ],
   "source": [
    "# plot Glucose vs BloodPressure and color points according to Outcome\n",
    "plt.figure()\n",
    "plt.scatter(df[df.Outcome==1].Glucose,df[df.Outcome==1].BloodPressure,label='Diabetes',color='r',s=3)\n",
    "plt.scatter(df[df.Outcome==0].Glucose,df[df.Outcome==0].BloodPressure,label='pas de diabetes',color='b',s=3)\n",
    "plt.legend()\n",
    "plt.xlabel('Glucose')\n",
    "plt.ylabel('BloodPressure')"
   ]
  },
  {
   "cell_type": "code",
   "execution_count": 22,
   "metadata": {},
   "outputs": [
    {
     "data": {
      "text/plain": [
       "Text(0.5, 1.0, 'CORRELATION MATRIX')"
      ]
     },
     "execution_count": 22,
     "metadata": {},
     "output_type": "execute_result"
    },
    {
     "data": {
      "image/png": "[encoded data removed]",
      "text/plain": [
       "<Figure size 576x576 with 2 Axes>"
      ]
     },
     "metadata": {
      "needs_background": "light"
     },
     "output_type": "display_data"
    }
   ],
   "source": [
    "plt.figure(figsize=(8,8))\n",
    "sns.heatmap(df.corr(),annot = True,cmap=\"YlGnBu\")\n",
    "plt.title(\"CORRELATION MATRIX\")"
   ]
  },
  {
   "cell_type": "code",
   "execution_count": 23,
   "metadata": {},
   "outputs": [
    {
     "data": {
      "text/plain": [
       "array([[  6.   , 148.   ,  72.   , ...,   0.627,  50.   ,   1.   ],\n",
       "       [  1.   ,  85.   ,  66.   , ...,   0.351,  31.   ,   0.   ],\n",
       "       [  8.   , 183.   ,  64.   , ...,   0.672,  32.   ,   1.   ],\n",
       "       ...,\n",
       "       [  5.   , 121.   ,  72.   , ...,   0.245,  30.   ,   0.   ],\n",
       "       [  1.   , 126.   ,  60.   , ...,   0.349,  47.   ,   1.   ],\n",
       "       [  1.   ,  93.   ,  70.   , ...,   0.315,  23.   ,   0.   ]])"
      ]
     },
     "execution_count": 23,
     "metadata": {},
     "output_type": "execute_result"
    }
   ],
   "source": [
    "#1-On transforme en matrice numpy\n",
    "data=df.values\n",
    "data"
   ]
  },
  {
   "cell_type": "code",
   "execution_count": 67,
   "metadata": {},
   "outputs": [],
   "source": [
    "#Découper la data en un jeu d'entraînement (X_train, y_train) et un jeu de test (X_test, y_test).\n",
    "#x et y\n",
    "x = df.drop(\"Outcome\",axis = 1)\n",
    "y=df.Outcome"
   ]
  },
  {
   "cell_type": "code",
   "execution_count": 68,
   "metadata": {},
   "outputs": [],
   "source": [
    "from sklearn.model_selection import train_test_split\n",
    "xtrain, xtest, ytrain, ytest = train_test_split(x,y, train_size=0.8)"
   ]
  },
  {
   "cell_type": "code",
   "execution_count": null,
   "metadata": {},
   "outputs": [],
   "source": []
  },
  {
   "cell_type": "markdown",
   "metadata": {},
   "source": [
    "# RandomForestClassifier"
   ]
  },
  {
   "cell_type": "code",
   "execution_count": null,
   "metadata": {},
   "outputs": [],
   "source": []
  },
  {
   "cell_type": "markdown",
   "metadata": {},
   "source": [
    "# LOGISTIC REGRESSION"
   ]
  },
  {
   "cell_type": "code",
   "execution_count": 69,
   "metadata": {},
   "outputs": [
    {
     "data": {
      "text/plain": [
       "LogisticRegression(solver='liblinear')"
      ]
     },
     "execution_count": 69,
     "metadata": {},
     "output_type": "execute_result"
    }
   ],
   "source": [
    "#En utilisant la classe LogisticRegression:\n",
    "from sklearn.linear_model import LogisticRegression\n",
    "model1= LogisticRegression(solver=\"liblinear\")\n",
    "model1.fit(xtrain,ytrain)"
   ]
  },
  {
   "cell_type": "code",
   "execution_count": 70,
   "metadata": {},
   "outputs": [],
   "source": [
    "#prediction sur l'échantillon test:\n",
    "y_p=model1.predict(xtest)"
   ]
  },
  {
   "cell_type": "markdown",
   "metadata": {},
   "source": [
    "             1)-Matrice de confusion"
   ]
  },
  {
   "cell_type": "code",
   "execution_count": 71,
   "metadata": {},
   "outputs": [
    {
     "name": "stdout",
     "output_type": "stream",
     "text": [
      "[[85  8]\n",
      " [29 32]]\n"
     ]
    }
   ],
   "source": [
    "from sklearn import metrics\n",
    "mc1 = metrics.confusion_matrix(ytest,y_p)\n",
    "print(mc1)"
   ]
  },
  {
   "cell_type": "markdown",
   "metadata": {},
   "source": [
    "# UTILISATION DE SVM"
   ]
  },
  {
   "cell_type": "code",
   "execution_count": 89,
   "metadata": {},
   "outputs": [
    {
     "data": {
      "text/plain": [
       "SVC()"
      ]
     },
     "execution_count": 89,
     "metadata": {},
     "output_type": "execute_result"
    }
   ],
   "source": [
    "from sklearn.svm import SVC\n",
    "svc_model = SVC()\n",
    "svc_model.fit(xtrain, ytrain)"
   ]
  },
  {
   "cell_type": "code",
   "execution_count": 90,
   "metadata": {},
   "outputs": [],
   "source": [
    "#Predict\n",
    "svc_pred = svc_model.predict(xtest)"
   ]
  },
  {
   "cell_type": "markdown",
   "metadata": {},
   "source": [
    "            1)-Matrice de confusion"
   ]
  },
  {
   "cell_type": "code",
   "execution_count": 91,
   "metadata": {},
   "outputs": [
    {
     "name": "stdout",
     "output_type": "stream",
     "text": [
      "[[84  9]\n",
      " [32 29]]\n"
     ]
    }
   ],
   "source": [
    "#Metrics for SVM\n",
    "from sklearn.metrics import classification_report, confusion_matrix\n",
    "\n",
    "print(confusion_matrix(ytest, svc_pred))\n"
   ]
  },
  {
   "cell_type": "code",
   "execution_count": 92,
   "metadata": {},
   "outputs": [],
   "source": [
    "from sklearn import metrics\n",
    "svm_matrix = metrics.confusion_matrix(ytest, svc_pred)"
   ]
  },
  {
   "cell_type": "code",
   "execution_count": 93,
   "metadata": {},
   "outputs": [
    {
     "data": {
      "text/plain": [
       "Text(0.5, 15.0, 'Predicted VALUES')"
      ]
     },
     "execution_count": 93,
     "metadata": {},
     "output_type": "execute_result"
    },
    {
     "data": {
      "image/png": "[encoded data removed]",
      "text/plain": [
       "<Figure size 432x288 with 2 Axes>"
      ]
     },
     "metadata": {
      "needs_background": "light"
     },
     "output_type": "display_data"
    }
   ],
   "source": [
    "p = sns.heatmap(pd.DataFrame(svm_matrix), annot=True, cmap=\"YlGnBu\")\n",
    "plt.title('svm matrix')\n",
    "plt.ylabel('TRUE VALUES')\n",
    "plt.xlabel('Predicted VALUES')\n"
   ]
  },
  {
   "cell_type": "markdown",
   "metadata": {},
   "source": [
    "# UTILISATION DE KNN"
   ]
  },
  {
   "cell_type": "code",
   "execution_count": 77,
   "metadata": {},
   "outputs": [
    {
     "data": {
      "text/plain": [
       "<function matplotlib.pyplot.show(*args, **kw)>"
      ]
     },
     "execution_count": 77,
     "metadata": {},
     "output_type": "execute_result"
    },
    {
     "data": {
      "image/png": "[encoded data removed]",
      "text/plain": [
       "<Figure size 432x288 with 1 Axes>"
      ]
     },
     "metadata": {
      "needs_background": "light"
     },
     "output_type": "display_data"
    }
   ],
   "source": [
    "from sklearn.neighbors import KNeighborsClassifier\n",
    "from sklearn import neighbors\n",
    "\n",
    "erreurr=[] #il faut la stocker dans un tableau si non on aura qu'une seule erreur a chaque fois elle va etre ecrasé\n",
    "\n",
    "for i in range (2,20):\n",
    "    knn = neighbors.KNeighborsClassifier(n_neighbors=i) \n",
    "    erreurr.append(1-knn.fit(xtrain, ytrain).score(xtest,ytest)) #a chaque fois il faut trainer le modele et caluler l'erreur\n",
    "plt.plot(range(2,20),erreurr,'o-')\n",
    "plt.show"
   ]
  },
  {
   "cell_type": "code",
   "execution_count": null,
   "metadata": {},
   "outputs": [],
   "source": []
  },
  {
   "cell_type": "code",
   "execution_count": 85,
   "metadata": {},
   "outputs": [
    {
     "ename": "ValueError",
     "evalue": "array length 18 does not match index length 614",
     "output_type": "error",
     "traceback": [
      "\u001b[1;31m---------------------------------------------------------------------------\u001b[0m",
      "\u001b[1;31mValueError\u001b[0m                                Traceback (most recent call last)",
      "\u001b[1;32m<ipython-input-85-ed6403ab09a5>\u001b[0m in \u001b[0;36m<module>\u001b[1;34m\u001b[0m\n\u001b[0;32m      1\u001b[0m \u001b[0mplt\u001b[0m\u001b[1;33m.\u001b[0m\u001b[0mfigure\u001b[0m\u001b[1;33m(\u001b[0m\u001b[0mfigsize\u001b[0m\u001b[1;33m=\u001b[0m\u001b[1;33m(\u001b[0m\u001b[1;36m12\u001b[0m\u001b[1;33m,\u001b[0m\u001b[1;36m5\u001b[0m\u001b[1;33m)\u001b[0m\u001b[1;33m)\u001b[0m\u001b[1;33m\u001b[0m\u001b[1;33m\u001b[0m\u001b[0m\n\u001b[1;32m----> 2\u001b[1;33m \u001b[0mp\u001b[0m \u001b[1;33m=\u001b[0m \u001b[0msns\u001b[0m\u001b[1;33m.\u001b[0m\u001b[0mlineplot\u001b[0m\u001b[1;33m(\u001b[0m\u001b[0mrange\u001b[0m\u001b[1;33m(\u001b[0m\u001b[1;36m2\u001b[0m\u001b[1;33m,\u001b[0m\u001b[1;36m20\u001b[0m\u001b[1;33m)\u001b[0m\u001b[1;33m,\u001b[0m\u001b[0mxtrain\u001b[0m\u001b[1;33m,\u001b[0m\u001b[0mytrain\u001b[0m\u001b[1;33m,\u001b[0m\u001b[0mmarker\u001b[0m\u001b[1;33m=\u001b[0m\u001b[1;34m'*'\u001b[0m\u001b[1;33m,\u001b[0m\u001b[0mlabel\u001b[0m\u001b[1;33m=\u001b[0m\u001b[1;34m'Train Score'\u001b[0m\u001b[1;33m)\u001b[0m\u001b[1;33m\u001b[0m\u001b[1;33m\u001b[0m\u001b[0m\n\u001b[0m\u001b[0;32m      3\u001b[0m \u001b[0mp\u001b[0m \u001b[1;33m=\u001b[0m \u001b[0msns\u001b[0m\u001b[1;33m.\u001b[0m\u001b[0mlineplot\u001b[0m\u001b[1;33m(\u001b[0m\u001b[0mrange\u001b[0m\u001b[1;33m(\u001b[0m\u001b[1;36m2\u001b[0m\u001b[1;33m,\u001b[0m\u001b[1;36m20\u001b[0m\u001b[1;33m)\u001b[0m\u001b[1;33m,\u001b[0m\u001b[0mxtest\u001b[0m\u001b[1;33m,\u001b[0m\u001b[0mytest\u001b[0m\u001b[1;33m,\u001b[0m\u001b[0mmarker\u001b[0m\u001b[1;33m=\u001b[0m\u001b[1;34m'o'\u001b[0m\u001b[1;33m,\u001b[0m\u001b[0mlabel\u001b[0m\u001b[1;33m=\u001b[0m\u001b[1;34m'Test Score'\u001b[0m\u001b[1;33m)\u001b[0m\u001b[1;33m\u001b[0m\u001b[1;33m\u001b[0m\u001b[0m\n",
      "\u001b[1;32m~\\anaconda3\\lib\\site-packages\\seaborn\\relational.py\u001b[0m in \u001b[0;36mlineplot\u001b[1;34m(x, y, hue, size, style, data, palette, hue_order, hue_norm, sizes, size_order, size_norm, dashes, markers, style_order, units, estimator, ci, n_boot, seed, sort, err_style, err_kws, legend, ax, **kwargs)\u001b[0m\n\u001b[0;32m   1118\u001b[0m              legend=\"brief\", ax=None, **kwargs):\n\u001b[0;32m   1119\u001b[0m \u001b[1;33m\u001b[0m\u001b[0m\n\u001b[1;32m-> 1120\u001b[1;33m     p = _LinePlotter(\n\u001b[0m\u001b[0;32m   1121\u001b[0m         \u001b[0mx\u001b[0m\u001b[1;33m=\u001b[0m\u001b[0mx\u001b[0m\u001b[1;33m,\u001b[0m \u001b[0my\u001b[0m\u001b[1;33m=\u001b[0m\u001b[0my\u001b[0m\u001b[1;33m,\u001b[0m \u001b[0mhue\u001b[0m\u001b[1;33m=\u001b[0m\u001b[0mhue\u001b[0m\u001b[1;33m,\u001b[0m \u001b[0msize\u001b[0m\u001b[1;33m=\u001b[0m\u001b[0msize\u001b[0m\u001b[1;33m,\u001b[0m \u001b[0mstyle\u001b[0m\u001b[1;33m=\u001b[0m\u001b[0mstyle\u001b[0m\u001b[1;33m,\u001b[0m \u001b[0mdata\u001b[0m\u001b[1;33m=\u001b[0m\u001b[0mdata\u001b[0m\u001b[1;33m,\u001b[0m\u001b[1;33m\u001b[0m\u001b[1;33m\u001b[0m\u001b[0m\n\u001b[0;32m   1122\u001b[0m         \u001b[0mpalette\u001b[0m\u001b[1;33m=\u001b[0m\u001b[0mpalette\u001b[0m\u001b[1;33m,\u001b[0m \u001b[0mhue_order\u001b[0m\u001b[1;33m=\u001b[0m\u001b[0mhue_order\u001b[0m\u001b[1;33m,\u001b[0m \u001b[0mhue_norm\u001b[0m\u001b[1;33m=\u001b[0m\u001b[0mhue_norm\u001b[0m\u001b[1;33m,\u001b[0m\u001b[1;33m\u001b[0m\u001b[1;33m\u001b[0m\u001b[0m\n",
      "\u001b[1;32m~\\anaconda3\\lib\\site-packages\\seaborn\\relational.py\u001b[0m in \u001b[0;36m__init__\u001b[1;34m(self, x, y, hue, size, style, data, palette, hue_order, hue_norm, sizes, size_order, size_norm, dashes, markers, style_order, units, estimator, ci, n_boot, seed, sort, err_style, err_kws, legend)\u001b[0m\n\u001b[0;32m    692\u001b[0m                  sort=True, err_style=None, err_kws=None, legend=None):\n\u001b[0;32m    693\u001b[0m \u001b[1;33m\u001b[0m\u001b[0m\n\u001b[1;32m--> 694\u001b[1;33m         plot_data = self.establish_variables(\n\u001b[0m\u001b[0;32m    695\u001b[0m             \u001b[0mx\u001b[0m\u001b[1;33m,\u001b[0m \u001b[0my\u001b[0m\u001b[1;33m,\u001b[0m \u001b[0mhue\u001b[0m\u001b[1;33m,\u001b[0m \u001b[0msize\u001b[0m\u001b[1;33m,\u001b[0m \u001b[0mstyle\u001b[0m\u001b[1;33m,\u001b[0m \u001b[0munits\u001b[0m\u001b[1;33m,\u001b[0m \u001b[0mdata\u001b[0m\u001b[1;33m\u001b[0m\u001b[1;33m\u001b[0m\u001b[0m\n\u001b[0;32m    696\u001b[0m         )\n",
      "\u001b[1;32m~\\anaconda3\\lib\\site-packages\\seaborn\\relational.py\u001b[0m in \u001b[0;36mestablish_variables\u001b[1;34m(self, x, y, hue, size, style, units, data)\u001b[0m\n\u001b[0;32m    150\u001b[0m                 \u001b[0munits\u001b[0m\u001b[1;33m=\u001b[0m\u001b[0munits\u001b[0m\u001b[1;33m\u001b[0m\u001b[1;33m\u001b[0m\u001b[0m\n\u001b[0;32m    151\u001b[0m             )\n\u001b[1;32m--> 152\u001b[1;33m             \u001b[0mplot_data\u001b[0m \u001b[1;33m=\u001b[0m \u001b[0mpd\u001b[0m\u001b[1;33m.\u001b[0m\u001b[0mDataFrame\u001b[0m\u001b[1;33m(\u001b[0m\u001b[0mplot_data\u001b[0m\u001b[1;33m)\u001b[0m\u001b[1;33m\u001b[0m\u001b[1;33m\u001b[0m\u001b[0m\n\u001b[0m\u001b[0;32m    153\u001b[0m \u001b[1;33m\u001b[0m\u001b[0m\n\u001b[0;32m    154\u001b[0m         \u001b[1;31m# Option 3:\u001b[0m\u001b[1;33m\u001b[0m\u001b[1;33m\u001b[0m\u001b[1;33m\u001b[0m\u001b[0m\n",
      "\u001b[1;32m~\\anaconda3\\lib\\site-packages\\pandas\\core\\frame.py\u001b[0m in \u001b[0;36m__init__\u001b[1;34m(self, data, index, columns, dtype, copy)\u001b[0m\n\u001b[0;32m    433\u001b[0m             )\n\u001b[0;32m    434\u001b[0m         \u001b[1;32melif\u001b[0m \u001b[0misinstance\u001b[0m\u001b[1;33m(\u001b[0m\u001b[0mdata\u001b[0m\u001b[1;33m,\u001b[0m \u001b[0mdict\u001b[0m\u001b[1;33m)\u001b[0m\u001b[1;33m:\u001b[0m\u001b[1;33m\u001b[0m\u001b[1;33m\u001b[0m\u001b[0m\n\u001b[1;32m--> 435\u001b[1;33m             \u001b[0mmgr\u001b[0m \u001b[1;33m=\u001b[0m \u001b[0minit_dict\u001b[0m\u001b[1;33m(\u001b[0m\u001b[0mdata\u001b[0m\u001b[1;33m,\u001b[0m \u001b[0mindex\u001b[0m\u001b[1;33m,\u001b[0m \u001b[0mcolumns\u001b[0m\u001b[1;33m,\u001b[0m \u001b[0mdtype\u001b[0m\u001b[1;33m=\u001b[0m\u001b[0mdtype\u001b[0m\u001b[1;33m)\u001b[0m\u001b[1;33m\u001b[0m\u001b[1;33m\u001b[0m\u001b[0m\n\u001b[0m\u001b[0;32m    436\u001b[0m         \u001b[1;32melif\u001b[0m \u001b[0misinstance\u001b[0m\u001b[1;33m(\u001b[0m\u001b[0mdata\u001b[0m\u001b[1;33m,\u001b[0m \u001b[0mma\u001b[0m\u001b[1;33m.\u001b[0m\u001b[0mMaskedArray\u001b[0m\u001b[1;33m)\u001b[0m\u001b[1;33m:\u001b[0m\u001b[1;33m\u001b[0m\u001b[1;33m\u001b[0m\u001b[0m\n\u001b[0;32m    437\u001b[0m             \u001b[1;32mimport\u001b[0m \u001b[0mnumpy\u001b[0m\u001b[1;33m.\u001b[0m\u001b[0mma\u001b[0m\u001b[1;33m.\u001b[0m\u001b[0mmrecords\u001b[0m \u001b[1;32mas\u001b[0m \u001b[0mmrecords\u001b[0m\u001b[1;33m\u001b[0m\u001b[1;33m\u001b[0m\u001b[0m\n",
      "\u001b[1;32m~\\anaconda3\\lib\\site-packages\\pandas\\core\\internals\\construction.py\u001b[0m in \u001b[0;36minit_dict\u001b[1;34m(data, index, columns, dtype)\u001b[0m\n\u001b[0;32m    252\u001b[0m             \u001b[0marr\u001b[0m \u001b[1;32mif\u001b[0m \u001b[1;32mnot\u001b[0m \u001b[0mis_datetime64tz_dtype\u001b[0m\u001b[1;33m(\u001b[0m\u001b[0marr\u001b[0m\u001b[1;33m)\u001b[0m \u001b[1;32melse\u001b[0m \u001b[0marr\u001b[0m\u001b[1;33m.\u001b[0m\u001b[0mcopy\u001b[0m\u001b[1;33m(\u001b[0m\u001b[1;33m)\u001b[0m \u001b[1;32mfor\u001b[0m \u001b[0marr\u001b[0m \u001b[1;32min\u001b[0m \u001b[0marrays\u001b[0m\u001b[1;33m\u001b[0m\u001b[1;33m\u001b[0m\u001b[0m\n\u001b[0;32m    253\u001b[0m         ]\n\u001b[1;32m--> 254\u001b[1;33m     \u001b[1;32mreturn\u001b[0m \u001b[0marrays_to_mgr\u001b[0m\u001b[1;33m(\u001b[0m\u001b[0marrays\u001b[0m\u001b[1;33m,\u001b[0m \u001b[0mdata_names\u001b[0m\u001b[1;33m,\u001b[0m \u001b[0mindex\u001b[0m\u001b[1;33m,\u001b[0m \u001b[0mcolumns\u001b[0m\u001b[1;33m,\u001b[0m \u001b[0mdtype\u001b[0m\u001b[1;33m=\u001b[0m\u001b[0mdtype\u001b[0m\u001b[1;33m)\u001b[0m\u001b[1;33m\u001b[0m\u001b[1;33m\u001b[0m\u001b[0m\n\u001b[0m\u001b[0;32m    255\u001b[0m \u001b[1;33m\u001b[0m\u001b[0m\n\u001b[0;32m    256\u001b[0m \u001b[1;33m\u001b[0m\u001b[0m\n",
      "\u001b[1;32m~\\anaconda3\\lib\\site-packages\\pandas\\core\\internals\\construction.py\u001b[0m in \u001b[0;36marrays_to_mgr\u001b[1;34m(arrays, arr_names, index, columns, dtype)\u001b[0m\n\u001b[0;32m     62\u001b[0m     \u001b[1;31m# figure out the index, if necessary\u001b[0m\u001b[1;33m\u001b[0m\u001b[1;33m\u001b[0m\u001b[1;33m\u001b[0m\u001b[0m\n\u001b[0;32m     63\u001b[0m     \u001b[1;32mif\u001b[0m \u001b[0mindex\u001b[0m \u001b[1;32mis\u001b[0m \u001b[1;32mNone\u001b[0m\u001b[1;33m:\u001b[0m\u001b[1;33m\u001b[0m\u001b[1;33m\u001b[0m\u001b[0m\n\u001b[1;32m---> 64\u001b[1;33m         \u001b[0mindex\u001b[0m \u001b[1;33m=\u001b[0m \u001b[0mextract_index\u001b[0m\u001b[1;33m(\u001b[0m\u001b[0marrays\u001b[0m\u001b[1;33m)\u001b[0m\u001b[1;33m\u001b[0m\u001b[1;33m\u001b[0m\u001b[0m\n\u001b[0m\u001b[0;32m     65\u001b[0m     \u001b[1;32melse\u001b[0m\u001b[1;33m:\u001b[0m\u001b[1;33m\u001b[0m\u001b[1;33m\u001b[0m\u001b[0m\n\u001b[0;32m     66\u001b[0m         \u001b[0mindex\u001b[0m \u001b[1;33m=\u001b[0m \u001b[0mensure_index\u001b[0m\u001b[1;33m(\u001b[0m\u001b[0mindex\u001b[0m\u001b[1;33m)\u001b[0m\u001b[1;33m\u001b[0m\u001b[1;33m\u001b[0m\u001b[0m\n",
      "\u001b[1;32m~\\anaconda3\\lib\\site-packages\\pandas\\core\\internals\\construction.py\u001b[0m in \u001b[0;36mextract_index\u001b[1;34m(data)\u001b[0m\n\u001b[0;32m    376\u001b[0m                         \u001b[1;34mf\"length {len(index)}\"\u001b[0m\u001b[1;33m\u001b[0m\u001b[1;33m\u001b[0m\u001b[0m\n\u001b[0;32m    377\u001b[0m                     )\n\u001b[1;32m--> 378\u001b[1;33m                     \u001b[1;32mraise\u001b[0m \u001b[0mValueError\u001b[0m\u001b[1;33m(\u001b[0m\u001b[0mmsg\u001b[0m\u001b[1;33m)\u001b[0m\u001b[1;33m\u001b[0m\u001b[1;33m\u001b[0m\u001b[0m\n\u001b[0m\u001b[0;32m    379\u001b[0m             \u001b[1;32melse\u001b[0m\u001b[1;33m:\u001b[0m\u001b[1;33m\u001b[0m\u001b[1;33m\u001b[0m\u001b[0m\n\u001b[0;32m    380\u001b[0m                 \u001b[0mindex\u001b[0m \u001b[1;33m=\u001b[0m \u001b[0mibase\u001b[0m\u001b[1;33m.\u001b[0m\u001b[0mdefault_index\u001b[0m\u001b[1;33m(\u001b[0m\u001b[0mlengths\u001b[0m\u001b[1;33m[\u001b[0m\u001b[1;36m0\u001b[0m\u001b[1;33m]\u001b[0m\u001b[1;33m)\u001b[0m\u001b[1;33m\u001b[0m\u001b[1;33m\u001b[0m\u001b[0m\n",
      "\u001b[1;31mValueError\u001b[0m: array length 18 does not match index length 614"
     ]
    },
    {
     "data": {
      "text/plain": [
       "<Figure size 864x360 with 0 Axes>"
      ]
     },
     "metadata": {},
     "output_type": "display_data"
    }
   ],
   "source": [
    "plt.figure(figsize=(12,5))\n",
    "p = sns.lineplot(range(2,20),xtrain,ytrain,marker='*',label='Train Score')\n",
    "p = sns.lineplot(range(2,20),xtest,ytest,marker='o',label='Test Score')\n"
   ]
  },
  {
   "cell_type": "code",
   "execution_count": 79,
   "metadata": {},
   "outputs": [
    {
     "data": {
      "text/plain": [
       "0.7207792207792207"
      ]
     },
     "execution_count": 79,
     "metadata": {},
     "output_type": "execute_result"
    }
   ],
   "source": [
    "#Setup a knn classifier with k neighbors\n",
    "knn = KNeighborsClassifier(15)\n",
    "\n",
    "knn.fit(xtrain,ytrain)\n",
    "knn.score(xtest,ytest)"
   ]
  },
  {
   "cell_type": "markdown",
   "metadata": {},
   "source": [
    "           1)- Matrice de confusion"
   ]
  },
  {
   "cell_type": "code",
   "execution_count": 38,
   "metadata": {},
   "outputs": [
    {
     "data": {
      "text/plain": [
       "array([0, 1, 0, 1, 1, 0, 0, 0, 0, 0, 1, 0, 1, 1, 0, 0, 0, 0, 0, 0, 1, 0,\n",
       "       1, 1, 0, 0, 0, 0, 0, 0, 0, 1, 0, 0, 0, 0, 0, 0, 1, 0, 0, 0, 0, 0,\n",
       "       0, 0, 1, 1, 1, 0, 0, 0, 1, 0, 0, 0, 0, 0, 1, 1, 1, 1, 0, 1, 0, 0,\n",
       "       0, 0, 0, 0, 0, 0, 0, 0, 0, 0, 0, 0, 0, 0, 1, 0, 1, 0, 1, 1, 0, 1,\n",
       "       0, 0, 0, 1, 0, 0, 1, 0, 0, 1, 1, 0, 1, 0, 0, 0, 1, 0, 0, 0, 1, 0,\n",
       "       0, 0, 1, 0, 0, 0, 0, 0, 0, 1, 1, 0, 0, 0, 0, 1, 1, 1, 1, 0, 1, 0,\n",
       "       0, 0, 0, 0, 1, 0, 1, 0, 0, 0, 1, 1, 1, 0, 0, 0, 0, 0, 1, 0, 0, 0],\n",
       "      dtype=int64)"
      ]
     },
     "execution_count": 38,
     "metadata": {},
     "output_type": "execute_result"
    }
   ],
   "source": [
    "from sklearn.metrics import confusion_matrix\n",
    "y_pred = knn.predict(xtest)\n",
    "y_pred\n"
   ]
  },
  {
   "cell_type": "code",
   "execution_count": 39,
   "metadata": {},
   "outputs": [
    {
     "data": {
      "text/plain": [
       "Text(0.5, 15.0, 'Predicted VAlues')"
      ]
     },
     "execution_count": 39,
     "metadata": {},
     "output_type": "execute_result"
    },
    {
     "data": {
      "image/png": "[encoded data removed]",
      "text/plain": [
       "<Figure size 432x288 with 2 Axes>"
      ]
     },
     "metadata": {
      "needs_background": "light"
     },
     "output_type": "display_data"
    }
   ],
   "source": [
    "y_pred = knn.predict(xtest)\n",
    "from sklearn import metrics\n",
    "cnf_matrix = metrics.confusion_matrix(ytest, y_pred)\n",
    "p = sns.heatmap(pd.DataFrame(cnf_matrix), annot=True, cmap=\"YlGnBu\" ,fmt='g')\n",
    "plt.title('Confusion matrix', y=1.1)\n",
    "plt.ylabel('TRUE VALUES')\n",
    "plt.xlabel('Predicted VAlues')"
   ]
  },
  {
   "cell_type": "markdown",
   "metadata": {},
   "source": [
    "               3)-Courbe de roc"
   ]
  },
  {
   "cell_type": "code",
   "execution_count": 40,
   "metadata": {},
   "outputs": [],
   "source": [
    "from sklearn.metrics import roc_curve\n",
    "y_pred_proba = knn.predict_proba(xtest)[:,1]\n",
    "fpr, tpr, thresholds = roc_curve(ytest, y_pred)\n"
   ]
  },
  {
   "cell_type": "code",
   "execution_count": 41,
   "metadata": {},
   "outputs": [
    {
     "data": {
      "image/png": "[encoded data removed]",
      "text/plain": [
       "<Figure size 432x288 with 1 Axes>"
      ]
     },
     "metadata": {
      "needs_background": "light"
     },
     "output_type": "display_data"
    }
   ],
   "source": [
    "plt.plot([0,1],[0,1],'k--')\n",
    "plt.plot(fpr,tpr, label='Knn')\n",
    "plt.xlabel('fpr')\n",
    "plt.ylabel('tpr')\n",
    "plt.title('Knn(n_neighbors=11) ROC curve')\n",
    "plt.show()"
   ]
  },
  {
   "cell_type": "code",
   "execution_count": 42,
   "metadata": {},
   "outputs": [
    {
     "name": "stdout",
     "output_type": "stream",
     "text": [
      "Best Score:0.7578558696205755\n"
     ]
    }
   ],
   "source": [
    "from sklearn.model_selection import GridSearchCV\n",
    "param_grid = {'n_neighbors':np.arange(1,50)}\n",
    "knn = KNeighborsClassifier()\n",
    "knn_cv= GridSearchCV(knn,param_grid,cv=5)\n",
    "knn_cv.fit(x,y)\n",
    "\n",
    "print(\"Best Score:\" + str(knn_cv.best_score_))\n"
   ]
  },
  {
   "cell_type": "markdown",
   "metadata": {},
   "source": [
    "# DECISION TREE"
   ]
  },
  {
   "cell_type": "code",
   "execution_count": 43,
   "metadata": {},
   "outputs": [
    {
     "data": {
      "text/plain": [
       "DecisionTreeClassifier(random_state=42)"
      ]
     },
     "execution_count": 43,
     "metadata": {},
     "output_type": "execute_result"
    }
   ],
   "source": [
    "from sklearn.tree import DecisionTreeClassifier\n",
    "\n",
    "# create Gaussian Naive Bayes model object and train it with the data\n",
    "dt_model = DecisionTreeClassifier(random_state=42)\n",
    "\n",
    "dt_model.fit(xtrain, ytrain.ravel())"
   ]
  },
  {
   "cell_type": "code",
   "execution_count": 44,
   "metadata": {},
   "outputs": [],
   "source": [
    "# this returns array of predicted results\n",
    "prediction_from_trained_data = dt_model.predict(xtrain)"
   ]
  },
  {
   "cell_type": "code",
   "execution_count": 45,
   "metadata": {},
   "outputs": [
    {
     "name": "stdout",
     "output_type": "stream",
     "text": [
      "Accuracy of our DT model is : 1.0000\n"
     ]
    }
   ],
   "source": [
    "from sklearn import metrics\n",
    "\n",
    "accuracy = metrics.accuracy_score(ytrain, prediction_from_trained_data)\n",
    "\n",
    "print (\"Accuracy of our DT model is : {0:.4f}\".format(accuracy))"
   ]
  },
  {
   "cell_type": "code",
   "execution_count": 46,
   "metadata": {},
   "outputs": [
    {
     "name": "stdout",
     "output_type": "stream",
     "text": [
      "Accuracy: 0.7338\n"
     ]
    }
   ],
   "source": [
    "dt_predict_test = dt_model.predict(xtest)\n",
    "\n",
    "#get accuracy\n",
    "dt_accuracy_testdata = metrics.accuracy_score(ytest, dt_predict_test)\n",
    "\n",
    "#print accuracy\n",
    "print (\"Accuracy: {0:.4f}\".format(dt_accuracy_testdata))"
   ]
  },
  {
   "cell_type": "code",
   "execution_count": 47,
   "metadata": {},
   "outputs": [
    {
     "name": "stdout",
     "output_type": "stream",
     "text": [
      "Confusion Matrix for DT\n",
      "[[34 22]\n",
      " [19 79]]\n",
      "\n",
      "Classification Report\n",
      "\n",
      "              precision    recall  f1-score   support\n",
      "\n",
      "           1       0.64      0.61      0.62        56\n",
      "           0       0.78      0.81      0.79        98\n",
      "\n",
      "    accuracy                           0.73       154\n",
      "   macro avg       0.71      0.71      0.71       154\n",
      "weighted avg       0.73      0.73      0.73       154\n",
      "\n"
     ]
    }
   ],
   "source": [
    "print (\"Confusion Matrix for DT\")\n",
    "# labels for set 1=True to upper left and 0 = False to lower right\n",
    "print (\"{0}\".format(metrics.confusion_matrix(ytest, dt_predict_test, labels=[1, 0])))\n",
    "print (\"\")\n",
    "print (\"Classification Report\\n\")\n",
    "\n",
    "# labels for set 1=True to upper left and 0 = False to lower right\n",
    "print (\"{0}\".format(metrics.classification_report(ytest, dt_predict_test, labels=[ 1,0])))"
   ]
  },
  {
   "cell_type": "code",
   "execution_count": 48,
   "metadata": {},
   "outputs": [
    {
     "data": {
      "image/png": "[encoded data removed]",
      "text/plain": [
       "<Figure size 432x288 with 1 Axes>"
      ]
     },
     "metadata": {
      "needs_background": "light"
     },
     "output_type": "display_data"
    }
   ],
   "source": [
    "import numpy as np\n",
    "import matplotlib.pyplot as plt\n",
    "\n",
    "# fpr, tpr\n",
    "naive_bayes = np.array([0.28, 0.52])\n",
    "logistic = np.array([0.54, 0.26])\n",
    "random_forest = np.array([0.43, 0.37])\n",
    "ann = np.array([0.36, 0.44])\n",
    "svm = np.array([0.46, 0.34])\n",
    "dt = np.array([0.52, 0.28])\n",
    "\n",
    "#plotting\n",
    "plt.scatter(logistic[0], logistic[1], label = 'Logistic Regression', facecolors='orange', edgecolors='orange', s=100)\n",
    "plt.scatter(random_forest[0], random_forest[1], label = 'Random Forest', facecolors='blue', edgecolors='black', s=100)\n",
    "plt.scatter(svm[0], svm[1], label = 'Support Vector Machine', facecolors='red', edgecolors='red', s=100)\n",
    "plt.scatter(ann[0], dt[1], label = 'Dicision Tree Classifier', facecolors='green', edgecolors='yellow', s=100)\n",
    "\n",
    "plt.plot([0, 1], [0, 1], 'k--')\n",
    "plt.xlim([0.0, 1.0])\n",
    "plt.ylim([0.0, 1.0])\n",
    "plt.xlabel('False Positive Rate')\n",
    "plt.ylabel('True Positive Rate')\n",
    "plt.title('courbe de ROC')\n",
    "plt.legend(loc='upper left')\n",
    "plt.show()"
   ]
  },
  {
   "cell_type": "code",
   "execution_count": 94,
   "metadata": {},
   "outputs": [
    {
     "ename": "AttributeError",
     "evalue": "'numpy.ndarray' object has no attribute 'SVC'",
     "output_type": "error",
     "traceback": [
      "\u001b[1;31m---------------------------------------------------------------------------\u001b[0m",
      "\u001b[1;31mAttributeError\u001b[0m                            Traceback (most recent call last)",
      "\u001b[1;32m<ipython-input-94-d424efc2857c>\u001b[0m in \u001b[0;36m<module>\u001b[1;34m\u001b[0m\n\u001b[0;32m     19\u001b[0m \u001b[1;31m#roc_auc_knn =  metrics.auc(fpr_knn, tpr_knn)\u001b[0m\u001b[1;33m\u001b[0m\u001b[1;33m\u001b[0m\u001b[1;33m\u001b[0m\u001b[0m\n\u001b[0;32m     20\u001b[0m \u001b[1;33m\u001b[0m\u001b[0m\n\u001b[1;32m---> 21\u001b[1;33m \u001b[0mclf\u001b[0m\u001b[1;33m=\u001b[0m\u001b[0msvm\u001b[0m\u001b[1;33m.\u001b[0m\u001b[0mSVC\u001b[0m\u001b[1;33m(\u001b[0m\u001b[0mprobability\u001b[0m\u001b[1;33m=\u001b[0m\u001b[1;32mTrue\u001b[0m\u001b[1;33m)\u001b[0m\u001b[1;33m\u001b[0m\u001b[1;33m\u001b[0m\u001b[0m\n\u001b[0m\u001b[0;32m     22\u001b[0m \u001b[1;33m\u001b[0m\u001b[0m\n\u001b[0;32m     23\u001b[0m \u001b[0mtest_scores_svm\u001b[0m \u001b[1;33m=\u001b[0m \u001b[0msvc_model\u001b[0m\u001b[1;33m.\u001b[0m\u001b[0mpredict_proba\u001b[0m\u001b[1;33m(\u001b[0m\u001b[0mxtest\u001b[0m\u001b[1;33m)\u001b[0m\u001b[1;33m\u001b[0m\u001b[1;33m\u001b[0m\u001b[0m\n",
      "\u001b[1;31mAttributeError\u001b[0m: 'numpy.ndarray' object has no attribute 'SVC'"
     ]
    }
   ],
   "source": [
    "#Logistic Regression ROC Curve:\n",
    "\n",
    "from sklearn.metrics import roc_curve\n",
    "\n",
    "from sklearn.metrics import auc\n",
    "\n",
    "test_scores = model1.predict_proba(xtest)\n",
    "\n",
    "fpr, tpr, threshold = roc_curve(ytest, test_scores[:,1])\n",
    "\n",
    "roc_auc = auc(fpr, tpr)\n",
    "\n",
    " \n",
    "\n",
    "#test_scores_knn = knn.predict_proba(xtest)\n",
    "\n",
    "#fpr_knn, tpr_knn, threshold_knn= roc_curve(ytest, test_scores_knn[:, 1])\n",
    "\n",
    "#roc_auc_knn =  metrics.auc(fpr_knn, tpr_knn)\n",
    "\n",
    "clf=svm.SVC(probability=True)\n",
    "\n",
    "test_scores_svm = svc_model.predict_proba(xtest)\n",
    "\n",
    "fpr_svm, tpr_svm, threshold_svm = roc_curve(ytest, test_scores_svm[:, 1])\n",
    "\n",
    "roc_auc_svm = metrics.auc(fpr_svm, tpr_svm)\n",
    "\n",
    " \n",
    "\n",
    "test_scores_DTC = DTC.predict_proba(xtest)\n",
    "\n",
    "fpr_DTC, tpr_DTC, threshold_DTC = roc_curve(ytest, test_scores_DTC[:, 1])\n",
    "\n",
    "roc_auc_DTC = metrics.auc(fpr_DTC, tpr_DTC)\n",
    "\n",
    " \n",
    "\n",
    "plt.title('Receiver Operating Characteristic')\n",
    "\n",
    "plt.plot(fpr, tpr, 'r', label = 'RL = %0.2f' % roc_auc)\n",
    "\n",
    "plt.plot(fpr_knn, tpr_knn, 'g', label = 'KNN = %0.2f' % roc_auc_knn)\n",
    "\n",
    "plt.plot(fpr_svm, tpr_svm, 'b', label = 'SVM = %0.2f' % roc_auc_svm)\n",
    "\n",
    "plt.plot(fpr_DTC, tpr_DTC, 'black', label = 'DTC = %0.2f' % roc_auc_DTC)\n",
    "\n",
    "plt.legend(loc = 'lower right')\n",
    "\n",
    "plt.plot([0, 1], [0, 1],'r--')\n",
    "\n",
    "plt.xlim([0, 1])\n",
    "\n",
    "plt.ylim([0, 1])\n",
    "\n",
    "plt.ylabel('True Positive Rate')\n",
    "\n",
    "plt.xlabel('False Positive Rate')\n",
    "\n",
    "plt.title('ROC Curve of  Logistic Regression')\n",
    "\n",
    "plt.show()"
   ]
  },
  {
   "cell_type": "markdown",
   "metadata": {},
   "source": [
    "# 2eme partie "
   ]
  },
  {
   "cell_type": "code",
   "execution_count": 50,
   "metadata": {},
   "outputs": [],
   "source": [
    "from keras.models import Sequential\n",
    "from keras.layers import Dense\n",
    "model = Sequential()\n",
    "model.add(Dense(55, input_dim=8,activation='relu'))\n",
    "model.add(Dense(15, input_dim=8,activation='relu'))\n",
    "model.add(Dense(1, input_dim=8,activation='sigmoid'))"
   ]
  },
  {
   "cell_type": "code",
   "execution_count": 51,
   "metadata": {},
   "outputs": [
    {
     "name": "stdout",
     "output_type": "stream",
     "text": [
      "Epoch 1/150\n",
      "62/62 [==============================] - 1s 2ms/step - loss: 3.0723 - accuracy: 0.5114\n",
      "Epoch 2/150\n",
      "62/62 [==============================] - 0s 2ms/step - loss: 1.3657 - accuracy: 0.6107\n",
      "Epoch 3/150\n",
      "62/62 [==============================] - 0s 2ms/step - loss: 0.9974 - accuracy: 0.6319\n",
      "Epoch 4/150\n",
      "62/62 [==============================] - 0s 2ms/step - loss: 0.8229 - accuracy: 0.6726\n",
      "Epoch 5/150\n",
      "62/62 [==============================] - 0s 2ms/step - loss: 0.6690 - accuracy: 0.7134\n",
      "Epoch 6/150\n",
      "62/62 [==============================] - 0s 2ms/step - loss: 0.7692 - accuracy: 0.6775\n",
      "Epoch 7/150\n",
      "62/62 [==============================] - 0s 2ms/step - loss: 0.7603 - accuracy: 0.6596\n",
      "Epoch 8/150\n",
      "62/62 [==============================] - 0s 2ms/step - loss: 0.6879 - accuracy: 0.7020\n",
      "Epoch 9/150\n",
      "62/62 [==============================] - 0s 2ms/step - loss: 0.8736 - accuracy: 0.6824\n",
      "Epoch 10/150\n",
      "62/62 [==============================] - 0s 2ms/step - loss: 0.7157 - accuracy: 0.6987\n",
      "Epoch 11/150\n",
      "62/62 [==============================] - 0s 2ms/step - loss: 0.7155 - accuracy: 0.6938\n",
      "Epoch 12/150\n",
      "62/62 [==============================] - 0s 2ms/step - loss: 0.7235 - accuracy: 0.6840\n",
      "Epoch 13/150\n",
      "62/62 [==============================] - 0s 2ms/step - loss: 0.6541 - accuracy: 0.7231\n",
      "Epoch 14/150\n",
      "62/62 [==============================] - 0s 2ms/step - loss: 0.5848 - accuracy: 0.7410\n",
      "Epoch 15/150\n",
      "62/62 [==============================] - 0s 2ms/step - loss: 0.6463 - accuracy: 0.6889\n",
      "Epoch 16/150\n",
      "62/62 [==============================] - 0s 2ms/step - loss: 0.6142 - accuracy: 0.7085\n",
      "Epoch 17/150\n",
      "62/62 [==============================] - 0s 2ms/step - loss: 0.6125 - accuracy: 0.7150\n",
      "Epoch 18/150\n",
      "62/62 [==============================] - 0s 2ms/step - loss: 0.6272 - accuracy: 0.7329\n",
      "Epoch 19/150\n",
      "62/62 [==============================] - 0s 2ms/step - loss: 0.6062 - accuracy: 0.7248\n",
      "Epoch 20/150\n",
      "62/62 [==============================] - 0s 2ms/step - loss: 0.7241 - accuracy: 0.6824\n",
      "Epoch 21/150\n",
      "62/62 [==============================] - 0s 2ms/step - loss: 0.6077 - accuracy: 0.7150\n",
      "Epoch 22/150\n",
      "62/62 [==============================] - 0s 2ms/step - loss: 0.6055 - accuracy: 0.7345\n",
      "Epoch 23/150\n",
      "62/62 [==============================] - 0s 2ms/step - loss: 0.5996 - accuracy: 0.7231\n",
      "Epoch 24/150\n",
      "62/62 [==============================] - 0s 2ms/step - loss: 0.6017 - accuracy: 0.7166\n",
      "Epoch 25/150\n",
      "62/62 [==============================] - 0s 2ms/step - loss: 0.5848 - accuracy: 0.7313\n",
      "Epoch 26/150\n",
      "62/62 [==============================] - 0s 2ms/step - loss: 0.5583 - accuracy: 0.7166\n",
      "Epoch 27/150\n",
      "62/62 [==============================] - 0s 2ms/step - loss: 0.5969 - accuracy: 0.7296\n",
      "Epoch 28/150\n",
      "62/62 [==============================] - ETA: 0s - loss: 0.5731 - accuracy: 0.74 - 0s 2ms/step - loss: 0.5654 - accuracy: 0.7459\n",
      "Epoch 29/150\n",
      "62/62 [==============================] - 0s 2ms/step - loss: 0.6040 - accuracy: 0.7101\n",
      "Epoch 30/150\n",
      "62/62 [==============================] - 0s 2ms/step - loss: 0.5626 - accuracy: 0.7215\n",
      "Epoch 31/150\n",
      "62/62 [==============================] - 0s 2ms/step - loss: 0.5557 - accuracy: 0.7199\n",
      "Epoch 32/150\n",
      "62/62 [==============================] - 0s 2ms/step - loss: 0.5482 - accuracy: 0.7329\n",
      "Epoch 33/150\n",
      "62/62 [==============================] - 0s 2ms/step - loss: 0.5725 - accuracy: 0.7410\n",
      "Epoch 34/150\n",
      "62/62 [==============================] - 0s 2ms/step - loss: 0.5766 - accuracy: 0.7296\n",
      "Epoch 35/150\n",
      "62/62 [==============================] - 0s 2ms/step - loss: 0.5700 - accuracy: 0.7443\n",
      "Epoch 36/150\n",
      "62/62 [==============================] - 0s 2ms/step - loss: 0.5660 - accuracy: 0.7182\n",
      "Epoch 37/150\n",
      "62/62 [==============================] - 0s 2ms/step - loss: 0.5767 - accuracy: 0.7313\n",
      "Epoch 38/150\n",
      "62/62 [==============================] - 0s 2ms/step - loss: 0.5081 - accuracy: 0.7671\n",
      "Epoch 39/150\n",
      "62/62 [==============================] - 0s 2ms/step - loss: 0.5102 - accuracy: 0.7524\n",
      "Epoch 40/150\n",
      "62/62 [==============================] - 0s 2ms/step - loss: 0.5970 - accuracy: 0.7085\n",
      "Epoch 41/150\n",
      "62/62 [==============================] - 0s 2ms/step - loss: 0.7220 - accuracy: 0.6775\n",
      "Epoch 42/150\n",
      "62/62 [==============================] - 0s 2ms/step - loss: 0.5798 - accuracy: 0.7476\n",
      "Epoch 43/150\n",
      "62/62 [==============================] - 0s 2ms/step - loss: 0.5165 - accuracy: 0.7410\n",
      "Epoch 44/150\n",
      "62/62 [==============================] - 0s 2ms/step - loss: 0.5710 - accuracy: 0.7443\n",
      "Epoch 45/150\n",
      "62/62 [==============================] - 0s 2ms/step - loss: 0.5432 - accuracy: 0.7362\n",
      "Epoch 46/150\n",
      "62/62 [==============================] - 0s 2ms/step - loss: 0.5320 - accuracy: 0.7410\n",
      "Epoch 47/150\n",
      "62/62 [==============================] - 0s 2ms/step - loss: 0.6077 - accuracy: 0.7296\n",
      "Epoch 48/150\n",
      "62/62 [==============================] - 0s 2ms/step - loss: 0.5137 - accuracy: 0.7590\n",
      "Epoch 49/150\n",
      "62/62 [==============================] - 0s 2ms/step - loss: 0.5891 - accuracy: 0.7068\n",
      "Epoch 50/150\n",
      "62/62 [==============================] - 0s 2ms/step - loss: 0.5276 - accuracy: 0.7427\n",
      "Epoch 51/150\n",
      "62/62 [==============================] - 0s 2ms/step - loss: 0.5970 - accuracy: 0.7199\n",
      "Epoch 52/150\n",
      "62/62 [==============================] - 0s 2ms/step - loss: 0.5228 - accuracy: 0.7524\n",
      "Epoch 53/150\n",
      "62/62 [==============================] - 0s 2ms/step - loss: 0.5244 - accuracy: 0.7362\n",
      "Epoch 54/150\n",
      "62/62 [==============================] - 0s 2ms/step - loss: 0.4996 - accuracy: 0.7752\n",
      "Epoch 55/150\n",
      "62/62 [==============================] - 0s 2ms/step - loss: 0.5282 - accuracy: 0.7443\n",
      "Epoch 56/150\n",
      "62/62 [==============================] - 0s 2ms/step - loss: 0.6473 - accuracy: 0.6922\n",
      "Epoch 57/150\n",
      "62/62 [==============================] - 0s 2ms/step - loss: 0.4952 - accuracy: 0.7752\n",
      "Epoch 58/150\n",
      "62/62 [==============================] - 0s 2ms/step - loss: 0.5684 - accuracy: 0.7313\n",
      "Epoch 59/150\n",
      "62/62 [==============================] - 0s 2ms/step - loss: 0.6497 - accuracy: 0.7166\n",
      "Epoch 60/150\n",
      "62/62 [==============================] - 0s 2ms/step - loss: 0.5470 - accuracy: 0.7638\n",
      "Epoch 61/150\n",
      "62/62 [==============================] - 0s 2ms/step - loss: 0.5001 - accuracy: 0.7524\n",
      "Epoch 62/150\n",
      "62/62 [==============================] - 0s 2ms/step - loss: 0.5139 - accuracy: 0.7524\n",
      "Epoch 63/150\n",
      "62/62 [==============================] - 0s 2ms/step - loss: 0.5470 - accuracy: 0.7264\n",
      "Epoch 64/150\n",
      "62/62 [==============================] - 0s 2ms/step - loss: 0.5339 - accuracy: 0.7231\n",
      "Epoch 65/150\n",
      "62/62 [==============================] - 0s 1ms/step - loss: 0.4844 - accuracy: 0.7671\n",
      "Epoch 66/150\n",
      "62/62 [==============================] - 0s 2ms/step - loss: 0.5031 - accuracy: 0.7362\n",
      "Epoch 67/150\n",
      "62/62 [==============================] - 0s 2ms/step - loss: 0.5113 - accuracy: 0.7606\n",
      "Epoch 68/150\n",
      "62/62 [==============================] - 0s 2ms/step - loss: 0.5419 - accuracy: 0.7557\n",
      "Epoch 69/150\n",
      "62/62 [==============================] - 0s 2ms/step - loss: 0.4998 - accuracy: 0.7573\n",
      "Epoch 70/150\n",
      "62/62 [==============================] - 0s 2ms/step - loss: 0.5408 - accuracy: 0.7476\n",
      "Epoch 71/150\n",
      "62/62 [==============================] - 0s 2ms/step - loss: 0.5444 - accuracy: 0.7524\n",
      "Epoch 72/150\n",
      "62/62 [==============================] - 0s 2ms/step - loss: 0.5607 - accuracy: 0.7410\n",
      "Epoch 73/150\n",
      "62/62 [==============================] - 0s 1ms/step - loss: 0.5650 - accuracy: 0.7345\n",
      "Epoch 74/150\n",
      "62/62 [==============================] - 0s 1ms/step - loss: 0.4849 - accuracy: 0.7590\n",
      "Epoch 75/150\n",
      "62/62 [==============================] - 0s 2ms/step - loss: 0.5356 - accuracy: 0.7264\n",
      "Epoch 76/150\n",
      "62/62 [==============================] - 0s 2ms/step - loss: 0.5530 - accuracy: 0.7459\n",
      "Epoch 77/150\n",
      "62/62 [==============================] - 0s 2ms/step - loss: 0.5192 - accuracy: 0.7720\n",
      "Epoch 78/150\n",
      "62/62 [==============================] - 0s 2ms/step - loss: 0.5050 - accuracy: 0.7736\n",
      "Epoch 79/150\n",
      "62/62 [==============================] - 0s 2ms/step - loss: 0.5120 - accuracy: 0.7671\n",
      "Epoch 80/150\n",
      "62/62 [==============================] - 0s 2ms/step - loss: 0.5605 - accuracy: 0.7378\n",
      "Epoch 81/150\n",
      "62/62 [==============================] - 0s 2ms/step - loss: 0.4732 - accuracy: 0.7801\n",
      "Epoch 82/150\n"
     ]
    },
    {
     "name": "stdout",
     "output_type": "stream",
     "text": [
      "62/62 [==============================] - 0s 2ms/step - loss: 0.6976 - accuracy: 0.7166\n",
      "Epoch 83/150\n",
      "62/62 [==============================] - 0s 2ms/step - loss: 0.4997 - accuracy: 0.7638\n",
      "Epoch 84/150\n",
      "62/62 [==============================] - 0s 2ms/step - loss: 0.4858 - accuracy: 0.7801\n",
      "Epoch 85/150\n",
      "62/62 [==============================] - 0s 2ms/step - loss: 0.4779 - accuracy: 0.7573\n",
      "Epoch 86/150\n",
      "62/62 [==============================] - 0s 2ms/step - loss: 0.4893 - accuracy: 0.7573\n",
      "Epoch 87/150\n",
      "62/62 [==============================] - 0s 2ms/step - loss: 0.5037 - accuracy: 0.7704\n",
      "Epoch 88/150\n",
      "62/62 [==============================] - 0s 2ms/step - loss: 0.5097 - accuracy: 0.7606\n",
      "Epoch 89/150\n",
      "62/62 [==============================] - 0s 2ms/step - loss: 0.4951 - accuracy: 0.7704\n",
      "Epoch 90/150\n",
      "62/62 [==============================] - 0s 2ms/step - loss: 0.5140 - accuracy: 0.7622\n",
      "Epoch 91/150\n",
      "62/62 [==============================] - 0s 2ms/step - loss: 0.4443 - accuracy: 0.8013\n",
      "Epoch 92/150\n",
      "62/62 [==============================] - 0s 2ms/step - loss: 0.4781 - accuracy: 0.7785\n",
      "Epoch 93/150\n",
      "62/62 [==============================] - 0s 2ms/step - loss: 0.4607 - accuracy: 0.7834\n",
      "Epoch 94/150\n",
      "62/62 [==============================] - 0s 2ms/step - loss: 0.4813 - accuracy: 0.7671\n",
      "Epoch 95/150\n",
      "62/62 [==============================] - 0s 2ms/step - loss: 0.4937 - accuracy: 0.7524\n",
      "Epoch 96/150\n",
      "62/62 [==============================] - 0s 2ms/step - loss: 0.5148 - accuracy: 0.7459\n",
      "Epoch 97/150\n",
      "62/62 [==============================] - 0s 2ms/step - loss: 0.4784 - accuracy: 0.7704\n",
      "Epoch 98/150\n",
      "62/62 [==============================] - 0s 2ms/step - loss: 0.4968 - accuracy: 0.7508\n",
      "Epoch 99/150\n",
      "62/62 [==============================] - 0s 2ms/step - loss: 0.6090 - accuracy: 0.7264\n",
      "Epoch 100/150\n",
      "62/62 [==============================] - 0s 2ms/step - loss: 0.4730 - accuracy: 0.7866\n",
      "Epoch 101/150\n",
      "62/62 [==============================] - 0s 2ms/step - loss: 0.5370 - accuracy: 0.7476\n",
      "Epoch 102/150\n",
      "62/62 [==============================] - 0s 2ms/step - loss: 0.4915 - accuracy: 0.7687\n",
      "Epoch 103/150\n",
      "62/62 [==============================] - 0s 2ms/step - loss: 0.4685 - accuracy: 0.7850\n",
      "Epoch 104/150\n",
      "62/62 [==============================] - 0s 2ms/step - loss: 0.4800 - accuracy: 0.7736\n",
      "Epoch 105/150\n",
      "62/62 [==============================] - 0s 2ms/step - loss: 0.4629 - accuracy: 0.7866\n",
      "Epoch 106/150\n",
      "62/62 [==============================] - 0s 2ms/step - loss: 0.4830 - accuracy: 0.7736\n",
      "Epoch 107/150\n",
      "62/62 [==============================] - 0s 2ms/step - loss: 0.4504 - accuracy: 0.7980\n",
      "Epoch 108/150\n",
      "62/62 [==============================] - 0s 2ms/step - loss: 0.4557 - accuracy: 0.7948\n",
      "Epoch 109/150\n",
      "62/62 [==============================] - 0s 1ms/step - loss: 0.4462 - accuracy: 0.7915\n",
      "Epoch 110/150\n",
      "62/62 [==============================] - 0s 2ms/step - loss: 0.4537 - accuracy: 0.7915\n",
      "Epoch 111/150\n",
      "62/62 [==============================] - 0s 2ms/step - loss: 0.4849 - accuracy: 0.7769\n",
      "Epoch 112/150\n",
      "62/62 [==============================] - 0s 2ms/step - loss: 0.4569 - accuracy: 0.7655\n",
      "Epoch 113/150\n",
      "62/62 [==============================] - 0s 2ms/step - loss: 0.5250 - accuracy: 0.7378\n",
      "Epoch 114/150\n",
      "62/62 [==============================] - 0s 2ms/step - loss: 0.4879 - accuracy: 0.7769\n",
      "Epoch 115/150\n",
      "62/62 [==============================] - 0s 2ms/step - loss: 0.5663 - accuracy: 0.7427\n",
      "Epoch 116/150\n",
      "62/62 [==============================] - 0s 2ms/step - loss: 0.4903 - accuracy: 0.7557\n",
      "Epoch 117/150\n",
      "62/62 [==============================] - 0s 2ms/step - loss: 0.5162 - accuracy: 0.7704\n",
      "Epoch 118/150\n",
      "62/62 [==============================] - 0s 2ms/step - loss: 0.4476 - accuracy: 0.7980\n",
      "Epoch 119/150\n",
      "62/62 [==============================] - 0s 2ms/step - loss: 0.4957 - accuracy: 0.7736\n",
      "Epoch 120/150\n",
      "62/62 [==============================] - 0s 1ms/step - loss: 0.4856 - accuracy: 0.7769\n",
      "Epoch 121/150\n",
      "62/62 [==============================] - 0s 2ms/step - loss: 0.4639 - accuracy: 0.7818\n",
      "Epoch 122/150\n",
      "62/62 [==============================] - 0s 2ms/step - loss: 0.4777 - accuracy: 0.7606\n",
      "Epoch 123/150\n",
      "62/62 [==============================] - 0s 2ms/step - loss: 0.4542 - accuracy: 0.7932\n",
      "Epoch 124/150\n",
      "62/62 [==============================] - 0s 1ms/step - loss: 0.4986 - accuracy: 0.7834\n",
      "Epoch 125/150\n",
      "62/62 [==============================] - 0s 2ms/step - loss: 0.4589 - accuracy: 0.7752\n",
      "Epoch 126/150\n",
      "62/62 [==============================] - 0s 2ms/step - loss: 0.4901 - accuracy: 0.7736\n",
      "Epoch 127/150\n",
      "62/62 [==============================] - 0s 2ms/step - loss: 0.4614 - accuracy: 0.7785\n",
      "Epoch 128/150\n",
      "62/62 [==============================] - 0s 2ms/step - loss: 0.5622 - accuracy: 0.7394\n",
      "Epoch 129/150\n",
      "62/62 [==============================] - 0s 2ms/step - loss: 0.4728 - accuracy: 0.7818\n",
      "Epoch 130/150\n",
      "62/62 [==============================] - 0s 2ms/step - loss: 0.5242 - accuracy: 0.7704\n",
      "Epoch 131/150\n",
      "62/62 [==============================] - ETA: 0s - loss: 0.5515 - accuracy: 0.77 - 0s 2ms/step - loss: 0.5565 - accuracy: 0.7687\n",
      "Epoch 132/150\n",
      "62/62 [==============================] - 0s 2ms/step - loss: 0.4476 - accuracy: 0.7899\n",
      "Epoch 133/150\n",
      "62/62 [==============================] - 0s 2ms/step - loss: 0.4417 - accuracy: 0.7932\n",
      "Epoch 134/150\n",
      "62/62 [==============================] - 0s 2ms/step - loss: 0.4507 - accuracy: 0.7932\n",
      "Epoch 135/150\n",
      "62/62 [==============================] - 0s 2ms/step - loss: 0.4763 - accuracy: 0.7736\n",
      "Epoch 136/150\n",
      "62/62 [==============================] - 0s 2ms/step - loss: 0.4362 - accuracy: 0.8029\n",
      "Epoch 137/150\n",
      "62/62 [==============================] - 0s 2ms/step - loss: 0.4711 - accuracy: 0.7655\n",
      "Epoch 138/150\n",
      "62/62 [==============================] - 0s 2ms/step - loss: 0.4539 - accuracy: 0.7883\n",
      "Epoch 139/150\n",
      "62/62 [==============================] - 0s 2ms/step - loss: 0.4495 - accuracy: 0.8013\n",
      "Epoch 140/150\n",
      "62/62 [==============================] - 0s 2ms/step - loss: 0.5815 - accuracy: 0.7443\n",
      "Epoch 141/150\n",
      "62/62 [==============================] - 0s 2ms/step - loss: 0.4360 - accuracy: 0.7883\n",
      "Epoch 142/150\n",
      "62/62 [==============================] - 0s 2ms/step - loss: 0.4621 - accuracy: 0.7850\n",
      "Epoch 143/150\n",
      "62/62 [==============================] - 0s 2ms/step - loss: 0.4831 - accuracy: 0.7818\n",
      "Epoch 144/150\n",
      "62/62 [==============================] - 0s 2ms/step - loss: 0.5206 - accuracy: 0.7590\n",
      "Epoch 145/150\n",
      "62/62 [==============================] - 0s 2ms/step - loss: 0.4941 - accuracy: 0.7622\n",
      "Epoch 146/150\n",
      "62/62 [==============================] - 0s 3ms/step - loss: 0.4580 - accuracy: 0.7834\n",
      "Epoch 147/150\n",
      "62/62 [==============================] - 0s 2ms/step - loss: 0.4527 - accuracy: 0.7866\n",
      "Epoch 148/150\n",
      "62/62 [==============================] - 0s 2ms/step - loss: 0.4490 - accuracy: 0.7964\n",
      "Epoch 149/150\n",
      "62/62 [==============================] - 0s 2ms/step - loss: 0.4503 - accuracy: 0.7850\n",
      "Epoch 150/150\n",
      "62/62 [==============================] - 0s 2ms/step - loss: 0.4472 - accuracy: 0.8111\n"
     ]
    },
    {
     "data": {
      "text/plain": [
       "<keras.callbacks.History at 0x18d871de6a0>"
      ]
     },
     "execution_count": 51,
     "metadata": {},
     "output_type": "execute_result"
    }
   ],
   "source": [
    "model.compile(loss='binary_crossentropy', optimizer='adam', metrics=['accuracy'])\n",
    "model.fit(xtrain,ytrain,epochs=150,batch_size=10)"
   ]
  },
  {
   "cell_type": "code",
   "execution_count": 255,
   "metadata": {},
   "outputs": [
    {
     "name": "stdout",
     "output_type": "stream",
     "text": [
      "5/5 [==============================] - 0s 1ms/step - loss: 0.6975 - accuracy: 0.7143\n",
      "\n",
      "accuracy: 71.43%\n"
     ]
    }
   ],
   "source": [
    "scores = model.evaluate(xtest,ytest)\n",
    "print(\"\\n%s: %.2f%%\" % (model.metrics_names[1], scores[1]*100))"
   ]
  },
  {
   "cell_type": "code",
   "execution_count": null,
   "metadata": {},
   "outputs": [],
   "source": []
  },
  {
   "cell_type": "code",
   "execution_count": null,
   "metadata": {},
   "outputs": [],
   "source": []
  }
 ],
 "metadata": {
  "kernelspec": {
   "display_name": "Python 3",
   "language": "python",
   "name": "python3"
  },
  "language_info": {
   "codemirror_mode": {
    "name": "ipython",
    "version": 3
   },
   "file_extension": ".py",
   "mimetype": "text/x-python",
   "name": "python",
   "nbconvert_exporter": "python",
   "pygments_lexer": "ipython3",
   "version": "3.8.3"
  }
 },
 "nbformat": 4,
 "nbformat_minor": 4
}
